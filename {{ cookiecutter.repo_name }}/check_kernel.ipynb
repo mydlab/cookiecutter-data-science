{
 "cells": [
  {
   "cell_type": "code",
   "execution_count": 71,
   "metadata": {},
   "outputs": [
    {
     "name": "stdout",
     "output_type": "stream",
     "text": [
      "True\n"
     ]
    }
   ],
   "source": [
    "import os.path\n",
    "from os import path\n",
    "from pathlib import Path\n",
    "import filecmp\n",
    "\n",
    "env_exist = False\n",
    "requirements_updated = False\n",
    "try:\n",
    "    home = str(Path.home())\n",
    "    env_exist = path.exists(home + \"/envs/{{ cookiecutter.repo_name }}/bin/activate\")\n",
    "    requirements_updated = filecmp.cmp('requirements.txt', home + '/envs/{{ cookiecutter.repo_name }}/requirements.txt') \n",
    "except:\n",
    "    pass\n",
    "print(env_exist)"
   ]
  },
  {
   "cell_type": "code",
   "execution_count": 72,
   "metadata": {},
   "outputs": [],
   "source": [
    "if not (env_exist and requirements_updated):\n",
    "    !make create_environment\n"
   ]
  },
  {
   "cell_type": "code",
   "execution_count": null,
   "metadata": {},
   "outputs": [],
   "source": [
    "%%javascript\n",
    "Jupyter.notebook.session.restart({kernel_name: '{{ cookiecutter.repo_name }}'})"
   ]
  }
 ],
 "metadata": {
  "hide_input": false,
  "kernelspec": {
   "display_name": "hello_world",
   "language": "python",
   "name": "hello_world"
  },
  "language_info": {
   "codemirror_mode": {
    "name": "ipython",
    "version": 3
   },
   "file_extension": ".py",
   "mimetype": "text/x-python",
   "name": "python",
   "nbconvert_exporter": "python",
   "pygments_lexer": "ipython3",
   "version": "3.6.7"
  },
  "toc": {
   "base_numbering": 1,
   "nav_menu": {},
   "number_sections": true,
   "sideBar": true,
   "skip_h1_title": false,
   "title_cell": "Table of Contents",
   "title_sidebar": "Contents",
   "toc_cell": false,
   "toc_position": {},
   "toc_section_display": true,
   "toc_window_display": false
  }
 },
 "nbformat": 4,
 "nbformat_minor": 2
}
